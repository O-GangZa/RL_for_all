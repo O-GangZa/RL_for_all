{
  "cells": [
    {
      "cell_type": "code",
      "execution_count": null,
      "metadata": {
        "colab": {
          "base_uri": "https://localhost:8080/"
        },
        "id": "MzKuO7ufpcZy",
        "outputId": "0322de5f-38a0-4f93-cc33-fa62a3645592"
      },
      "outputs": [
        {
          "name": "stdout",
          "output_type": "stream",
          "text": [
            "WARNING:tensorflow:From /usr/local/lib/python3.7/dist-packages/tensorflow/python/compat/v2_compat.py:107: disable_resource_variables (from tensorflow.python.ops.variable_scope) is deprecated and will be removed in a future version.\n",
            "Instructions for updating:\n",
            "non-resource variables are not supported in the long term\n"
          ]
        }
      ],
      "source": [
        "import numpy as np\n",
        "import tensorflow.compat.v1 as tf\n",
        "tf.disable_v2_behavior()"
      ]
    },
    {
      "cell_type": "code",
      "execution_count": null,
      "metadata": {
        "id": "O8bs3AiexfPH"
      },
      "outputs": [],
      "source": [
        "import gym\n",
        "import matplotlib.pyplot as plt"
      ]
    },
    {
      "cell_type": "code",
      "execution_count": null,
      "metadata": {
        "id": "zpZw3_ZFxngK"
      },
      "outputs": [],
      "source": [
        "env =gym.make('FrozenLake-v0')"
      ]
    },
    {
      "cell_type": "code",
      "execution_count": null,
      "metadata": {
        "id": "LrVVStP8t12f"
      },
      "outputs": [],
      "source": [
        "#환경에 따라 input 및 output 사이즈 맞춰주기!\n",
        "input_size = env.observation_space.n\n",
        "output_size = env.action_space.n\n",
        "learning_rate = 0.1"
      ]
    },
    {
      "cell_type": "code",
      "execution_count": null,
      "metadata": {
        "id": "0ozYo9mZuWN3"
      },
      "outputs": [],
      "source": [
        "def one_hot(x):\n",
        "    return np.identity(16)[x:x+1]"
      ]
    },
    {
      "cell_type": "code",
      "execution_count": null,
      "metadata": {
        "id": "YD3JzkaKu-xG"
      },
      "outputs": [],
      "source": [
        "X = tf.placeholder(shape=[1,input_size],dtype=tf.float32) # input state\n",
        "W = tf.Variable(tf.random_uniform([input_size, output_size], 0, 0.01)) # 가중치\n",
        "Qpred = tf.matmul(X,W)   # Q-prediction 이 계산됨"
      ]
    },
    {
      "cell_type": "markdown",
      "metadata": {
        "id": "rprKhLFq3rNW"
      },
      "source": [
        "기본적으로 X는 1 X 16 행렬\n",
        "\n",
        "W는 각 상하좌우의 Q밸류가 추가된 형태인 16 X 4 행렬이 된다."
      ]
    },
    {
      "cell_type": "code",
      "execution_count": null,
      "metadata": {
        "id": "a7QlgM3YvrZ7"
      },
      "outputs": [],
      "source": [
        "Y = tf.placeholder(shape=[1, output_size], dtype=tf.float32)  # y레이블\n",
        "\n",
        "loss = tf.reduce_sum(tf.square(Y-Qpred))\n",
        "train = tf.train.GradientDescentOptimizer(learning_rate=learning_rate).minimize(loss)"
      ]
    },
    {
      "cell_type": "code",
      "execution_count": null,
      "metadata": {
        "id": "RikOyArKyZgm"
      },
      "outputs": [],
      "source": [
        "#하이퍼 파라미터\n",
        "dis = .99\n",
        "num_episode = 2000"
      ]
    },
    {
      "cell_type": "code",
      "execution_count": null,
      "metadata": {
        "id": "2fWY3eO7ykOT"
      },
      "outputs": [],
      "source": [
        "# 매 애피소드 step의 총 reward를 담을 리스트임\n",
        "rList = []"
      ]
    },
    {
      "cell_type": "markdown",
      "metadata": {
        "id": "IFA-zor2y6Xf"
      },
      "source": [
        "## 학습 파트"
      ]
    },
    {
      "cell_type": "code",
      "execution_count": null,
      "metadata": {
        "id": "ivyHmkuOy-b3"
      },
      "outputs": [],
      "source": [
        "init = tf.global_variables_initializer()  # 텐서플로에서 변수 초기화할때 쓰는거라고 함\n",
        "with tf.Session() as sess:\n",
        "    sess.run(init)\n",
        "    for i in range(num_episode):\n",
        "        # 환경을 리셋시켜주고, 새 관측을 얻음\n",
        "        s = env.reset()\n",
        "        e = 1. / ((i / 50) + 10)\n",
        "        rAll = 0\n",
        "        done = False\n",
        "        local_loss = []\n",
        "\n",
        "        # Q-Network training\n",
        "        while not done:\n",
        "            #그리디 혹은 랜덤한 방식을 통해 학습\n",
        "            Qs = sess.run(Qpred, feed_dict={X: one_hot(s)})\n",
        "            if np.random.rand(1) < e:\n",
        "                a = env.action_space.sample()\n",
        "            else:\n",
        "                a = np.argmax(Qs)\n",
        "\n",
        "            # 새 state로 이동 + 환경으로 부터 reward를 받음\n",
        "            s1, reward, done, _ = env.step(a)\n",
        "            if done:\n",
        "                #터미널 상태에 있을때\n",
        "                Qs[0, a] = reward\n",
        "            else:\n",
        "                #터미널 상태에 있지 않다면?\n",
        "                Qs1 = sess.run(Qpred, feed_dict={X: one_hot(s1)})\n",
        "                #Q를 업데이트 해줌\n",
        "                Qs[0, a] = reward + dis * np.max(Qs1)\n",
        "\n",
        "            sess.run(train, feed_dict= {X: one_hot(s), Y: Qs})\n",
        "\n",
        "            rAll += reward\n",
        "            s = s1\n",
        "        rList.append(rAll)"
      ]
    },
    {
      "cell_type": "code",
      "execution_count": null,
      "metadata": {
        "colab": {
          "base_uri": "https://localhost:8080/",
          "height": 283
        },
        "id": "K_7dp4Hz1F85",
        "outputId": "ed8075fc-d6c7-4933-817f-349f7771ffad"
      },
      "outputs": [
        {
          "name": "stdout",
          "output_type": "stream",
          "text": [
            "성공 에피소드0.4425 %\n"
          ]
        },
        {
          "data": {
            "image/png": "[encoded data removed]",
            "text/plain": [
              "<Figure size 432x288 with 1 Axes>"
            ]
          },
          "metadata": {
            "needs_background": "light"
          },
          "output_type": "display_data"
        }
      ],
      "source": [
        "print(\"성공 에피소드\" + str(sum(rList)/num_episode) + \" %\")\n",
        "plt.bar(range(len(rList)), rList, color=\"blue\")\n",
        "plt.show()"
      ]
    },
    {
      "cell_type": "markdown",
      "metadata": {
        "id": "8TwujDvp2IXj"
      },
      "source": [
        "속도도 빠르지 않고 잘 수렴하지 않는 모습을 볼 수 있다\n",
        "\n",
        "-> 미니배치 같은 것을 사용?\n"
      ]
    }
  ],
  "metadata": {
    "colab": {
      "name": "모두RL 실습 #6-1 (Frozen-Lake).ipynb",
      "provenance": []
    },
    "kernelspec": {
      "display_name": "Python 3",
      "name": "python3"
    },
    "language_info": {
      "name": "python"
    }
  },
  "nbformat": 4,
  "nbformat_minor": 0
}
